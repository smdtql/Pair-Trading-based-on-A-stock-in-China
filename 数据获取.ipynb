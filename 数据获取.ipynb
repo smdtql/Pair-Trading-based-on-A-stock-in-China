{
 "cells": [
  {
   "cell_type": "markdown",
   "id": "9affa817-ebe5-4130-9f8b-6f33240b50ac",
   "metadata": {},
   "source": [
    "使用joingquant试用版本作为数据来源"
   ]
  },
  {
   "cell_type": "code",
   "execution_count": 1,
   "id": "46fffa86-6f5c-46d1-8c18-cc0a43e17915",
   "metadata": {},
   "outputs": [
    {
     "name": "stdout",
     "output_type": "stream",
     "text": [
      "auth success \n"
     ]
    }
   ],
   "source": [
    "import pandas as pd\n",
    "import numpy as np\n",
    "import matplotlib.pyplot as plt\n",
    "import seaborn as sns\n",
    "import akshare as ak\n",
    "from jqdatasdk import *\n",
    "auth('18800192008','Abc123456')"
   ]
  },
  {
   "cell_type": "code",
   "execution_count": 9,
   "id": "ab52b152-851b-4379-bffb-a311f9afad1f",
   "metadata": {},
   "outputs": [
    {
     "data": {
      "text/plain": [
       "['600036.XSHG', '601988.XSHG']"
      ]
     },
     "execution_count": 9,
     "metadata": {},
     "output_type": "execute_result"
    }
   ],
   "source": [
    "#stock_ls=['601169','601328']\n",
    "#stock_ls=['601939','601998','601658']\n",
    "stock_ls=['600036','601988']\n",
    "stock_ls=normalize_code(stock_ls)\n",
    "stock_ls"
   ]
  },
  {
   "cell_type": "code",
   "execution_count": 12,
   "id": "a9097209-ddc7-4212-97c1-a1f9b91caa6e",
   "metadata": {},
   "outputs": [
    {
     "data": {
      "text/plain": [
       "{'total': 1000000, 'spare': 97414}"
      ]
     },
     "execution_count": 12,
     "metadata": {},
     "output_type": "execute_result"
    }
   ],
   "source": [
    "get_query_count()"
   ]
  },
  {
   "cell_type": "code",
   "execution_count": 10,
   "id": "78b2c2a3-f61e-4301-be46-bcc947a1a20c",
   "metadata": {},
   "outputs": [],
   "source": [
    "predf=get_price(stock_ls, start_date='2019-01-1 9:00:00', end_date='2022-04-18 14:00:00', frequency='1m', fields=None, skip_paused=True, fq='pre', count=None, panel=False, fill_paused=True)"
   ]
  },
  {
   "cell_type": "code",
   "execution_count": 11,
   "id": "f9cc4ccd-6481-4a87-9c53-c21d4fe40c5f",
   "metadata": {},
   "outputs": [
    {
     "data": {
      "text/html": [
       "<div>\n",
       "<style scoped>\n",
       "    .dataframe tbody tr th:only-of-type {\n",
       "        vertical-align: middle;\n",
       "    }\n",
       "\n",
       "    .dataframe tbody tr th {\n",
       "        vertical-align: top;\n",
       "    }\n",
       "\n",
       "    .dataframe thead th {\n",
       "        text-align: right;\n",
       "    }\n",
       "</style>\n",
       "<table border=\"1\" class=\"dataframe\">\n",
       "  <thead>\n",
       "    <tr style=\"text-align: right;\">\n",
       "      <th></th>\n",
       "      <th>time</th>\n",
       "      <th>code</th>\n",
       "      <th>open</th>\n",
       "      <th>close</th>\n",
       "      <th>high</th>\n",
       "      <th>low</th>\n",
       "      <th>volume</th>\n",
       "      <th>money</th>\n",
       "    </tr>\n",
       "  </thead>\n",
       "  <tbody>\n",
       "    <tr>\n",
       "      <th>0</th>\n",
       "      <td>2019-01-02 09:31:00</td>\n",
       "      <td>600036.XSHG</td>\n",
       "      <td>23.17</td>\n",
       "      <td>23.17</td>\n",
       "      <td>23.20</td>\n",
       "      <td>23.12</td>\n",
       "      <td>1546938.0</td>\n",
       "      <td>35838679.0</td>\n",
       "    </tr>\n",
       "    <tr>\n",
       "      <th>1</th>\n",
       "      <td>2019-01-02 09:32:00</td>\n",
       "      <td>600036.XSHG</td>\n",
       "      <td>23.19</td>\n",
       "      <td>23.14</td>\n",
       "      <td>23.19</td>\n",
       "      <td>23.10</td>\n",
       "      <td>833017.0</td>\n",
       "      <td>19280192.0</td>\n",
       "    </tr>\n",
       "    <tr>\n",
       "      <th>2</th>\n",
       "      <td>2019-01-02 09:33:00</td>\n",
       "      <td>600036.XSHG</td>\n",
       "      <td>23.14</td>\n",
       "      <td>23.16</td>\n",
       "      <td>23.20</td>\n",
       "      <td>23.09</td>\n",
       "      <td>421231.0</td>\n",
       "      <td>9745884.0</td>\n",
       "    </tr>\n",
       "    <tr>\n",
       "      <th>3</th>\n",
       "      <td>2019-01-02 09:34:00</td>\n",
       "      <td>600036.XSHG</td>\n",
       "      <td>23.18</td>\n",
       "      <td>23.13</td>\n",
       "      <td>23.18</td>\n",
       "      <td>23.08</td>\n",
       "      <td>409289.0</td>\n",
       "      <td>9466264.0</td>\n",
       "    </tr>\n",
       "    <tr>\n",
       "      <th>4</th>\n",
       "      <td>2019-01-02 09:35:00</td>\n",
       "      <td>600036.XSHG</td>\n",
       "      <td>23.10</td>\n",
       "      <td>23.06</td>\n",
       "      <td>23.12</td>\n",
       "      <td>23.06</td>\n",
       "      <td>400712.0</td>\n",
       "      <td>9253312.0</td>\n",
       "    </tr>\n",
       "    <tr>\n",
       "      <th>...</th>\n",
       "      <td>...</td>\n",
       "      <td>...</td>\n",
       "      <td>...</td>\n",
       "      <td>...</td>\n",
       "      <td>...</td>\n",
       "      <td>...</td>\n",
       "      <td>...</td>\n",
       "      <td>...</td>\n",
       "    </tr>\n",
       "    <tr>\n",
       "      <th>382915</th>\n",
       "      <td>2022-04-18 13:56:00</td>\n",
       "      <td>601988.XSHG</td>\n",
       "      <td>3.23</td>\n",
       "      <td>3.23</td>\n",
       "      <td>3.23</td>\n",
       "      <td>3.22</td>\n",
       "      <td>346400.0</td>\n",
       "      <td>1116504.0</td>\n",
       "    </tr>\n",
       "    <tr>\n",
       "      <th>382916</th>\n",
       "      <td>2022-04-18 13:57:00</td>\n",
       "      <td>601988.XSHG</td>\n",
       "      <td>3.22</td>\n",
       "      <td>3.23</td>\n",
       "      <td>3.23</td>\n",
       "      <td>3.22</td>\n",
       "      <td>384600.0</td>\n",
       "      <td>1238763.0</td>\n",
       "    </tr>\n",
       "    <tr>\n",
       "      <th>382917</th>\n",
       "      <td>2022-04-18 13:58:00</td>\n",
       "      <td>601988.XSHG</td>\n",
       "      <td>3.22</td>\n",
       "      <td>3.23</td>\n",
       "      <td>3.23</td>\n",
       "      <td>3.22</td>\n",
       "      <td>438300.0</td>\n",
       "      <td>1412829.0</td>\n",
       "    </tr>\n",
       "    <tr>\n",
       "      <th>382918</th>\n",
       "      <td>2022-04-18 13:59:00</td>\n",
       "      <td>601988.XSHG</td>\n",
       "      <td>3.22</td>\n",
       "      <td>3.22</td>\n",
       "      <td>3.23</td>\n",
       "      <td>3.22</td>\n",
       "      <td>282500.0</td>\n",
       "      <td>910171.0</td>\n",
       "    </tr>\n",
       "    <tr>\n",
       "      <th>382919</th>\n",
       "      <td>2022-04-18 14:00:00</td>\n",
       "      <td>601988.XSHG</td>\n",
       "      <td>3.22</td>\n",
       "      <td>3.23</td>\n",
       "      <td>3.23</td>\n",
       "      <td>3.22</td>\n",
       "      <td>448900.0</td>\n",
       "      <td>1446213.0</td>\n",
       "    </tr>\n",
       "  </tbody>\n",
       "</table>\n",
       "<p>382920 rows × 8 columns</p>\n",
       "</div>"
      ],
      "text/plain": [
       "                      time         code   open  close   high    low  \\\n",
       "0      2019-01-02 09:31:00  600036.XSHG  23.17  23.17  23.20  23.12   \n",
       "1      2019-01-02 09:32:00  600036.XSHG  23.19  23.14  23.19  23.10   \n",
       "2      2019-01-02 09:33:00  600036.XSHG  23.14  23.16  23.20  23.09   \n",
       "3      2019-01-02 09:34:00  600036.XSHG  23.18  23.13  23.18  23.08   \n",
       "4      2019-01-02 09:35:00  600036.XSHG  23.10  23.06  23.12  23.06   \n",
       "...                    ...          ...    ...    ...    ...    ...   \n",
       "382915 2022-04-18 13:56:00  601988.XSHG   3.23   3.23   3.23   3.22   \n",
       "382916 2022-04-18 13:57:00  601988.XSHG   3.22   3.23   3.23   3.22   \n",
       "382917 2022-04-18 13:58:00  601988.XSHG   3.22   3.23   3.23   3.22   \n",
       "382918 2022-04-18 13:59:00  601988.XSHG   3.22   3.22   3.23   3.22   \n",
       "382919 2022-04-18 14:00:00  601988.XSHG   3.22   3.23   3.23   3.22   \n",
       "\n",
       "           volume       money  \n",
       "0       1546938.0  35838679.0  \n",
       "1        833017.0  19280192.0  \n",
       "2        421231.0   9745884.0  \n",
       "3        409289.0   9466264.0  \n",
       "4        400712.0   9253312.0  \n",
       "...           ...         ...  \n",
       "382915   346400.0   1116504.0  \n",
       "382916   384600.0   1238763.0  \n",
       "382917   438300.0   1412829.0  \n",
       "382918   282500.0    910171.0  \n",
       "382919   448900.0   1446213.0  \n",
       "\n",
       "[382920 rows x 8 columns]"
      ]
     },
     "execution_count": 11,
     "metadata": {},
     "output_type": "execute_result"
    }
   ],
   "source": [
    "predf"
   ]
  },
  {
   "cell_type": "code",
   "execution_count": 13,
   "id": "7f749e00-9928-46b4-87e0-8671eb4f0e6f",
   "metadata": {},
   "outputs": [
    {
     "name": "stdout",
     "output_type": "stream",
     "text": [
      "success\n"
     ]
    }
   ],
   "source": [
    "predf.to_excel('pair_trading_rawdata_4.xlsx')\n",
    "print('success')"
   ]
  }
 ],
 "metadata": {
  "kernelspec": {
   "display_name": "quant_py3.8",
   "language": "python",
   "name": "quant_py3.8"
  },
  "language_info": {
   "codemirror_mode": {
    "name": "ipython",
    "version": 3
   },
   "file_extension": ".py",
   "mimetype": "text/x-python",
   "name": "python",
   "nbconvert_exporter": "python",
   "pygments_lexer": "ipython3",
   "version": "3.8.13"
  }
 },
 "nbformat": 4,
 "nbformat_minor": 5
}
